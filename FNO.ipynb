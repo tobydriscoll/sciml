{
 "cells": [
  {
   "cell_type": "code",
   "execution_count": 1,
   "metadata": {},
   "outputs": [],
   "source": [
    "import torch\n",
    "from torch.utils.data import DataLoader, TensorDataset\n",
    "import numpy as np\n",
    "import h5py\n",
    "from sklearn.model_selection import train_test_split\n",
    "import sys\n",
    "from neuralop.models import FNO\n",
    "from neuralop import Trainer\n",
    "from neuralop.training import AdamW\n",
    "from neuralop.data.datasets import load_darcy_flow_small\n",
    "from neuralop.utils import count_model_params\n",
    "from neuralop import LpLoss, H1Loss\n"
   ]
  },
  {
   "cell_type": "code",
   "execution_count": 2,
   "metadata": {},
   "outputs": [],
   "source": [
    "from torch import optim"
   ]
  },
  {
   "cell_type": "code",
   "execution_count": 3,
   "metadata": {},
   "outputs": [],
   "source": [
    "datastore = h5py.File(\"C:/Users/arnab/OneDrive/Desktop/Study material/summer 24/Research/New equations/datasets/trials_many_alldata_new_eqution2.h5\", 'r')\n",
    "data_I = np.array(np.array(datastore[\"I\"]))\n",
    "\n",
    "data_c = np.array(np.array(datastore[\"c\"]))\n",
    "data_h = np.array(np.array(datastore[\"h\"]))\n",
    "t = np.linspace(0, 1, 601).reshape(601, 1)"
   ]
  },
  {
   "cell_type": "code",
   "execution_count": 4,
   "metadata": {},
   "outputs": [],
   "source": [
    "train_label, test_label = train_test_split(range(len(data_I)), test_size=0.25, random_state=42)\n",
    "\n",
    "data_i_train = data_I[train_label,:]\n",
    "data_i_test = data_I[test_label,:]\n",
    "\n",
    "data_c_train = data_c[train_label,:]\n",
    "data_c_test = data_c[test_label,:]\n",
    "\n",
    "data_h_train = data_h[train_label,:]\n",
    "data_h_test = data_h[test_label,:]"
   ]
  },
  {
   "cell_type": "code",
   "execution_count": 5,
   "metadata": {},
   "outputs": [],
   "source": [
    "data_i_train = torch.tensor(data_i_train, dtype=torch.float32).unsqueeze(1)\n",
    "data_i_test = torch.tensor(data_i_test, dtype=torch.float32).unsqueeze(1)\n",
    "\n",
    "data_c_train = torch.tensor(data_c_train, dtype=torch.float32).unsqueeze(1)\n",
    "data_c_test = torch.tensor(data_c_test, dtype=torch.float32).unsqueeze(1)\n",
    "\n",
    "data_h_train = torch.tensor(data_h_train, dtype=torch.float32).unsqueeze(1)\n",
    "data_h_test = torch.tensor(data_h_test, dtype=torch.float32).unsqueeze(1)"
   ]
  },
  {
   "cell_type": "code",
   "execution_count": 10,
   "metadata": {},
   "outputs": [],
   "source": [
    "train_dataset_c = TensorDataset(data_i_train, data_c_train)\n",
    "train_dataloader_c = DataLoader(train_dataset_c, batch_size=1024, shuffle=True)\n",
    "\n",
    "test_dataset_c = TensorDataset(data_i_test, data_c_test)\n",
    "test_dataloader_c = DataLoader(test_dataset_c, batch_size=1024, shuffle=True)"
   ]
  },
  {
   "cell_type": "code",
   "execution_count": 11,
   "metadata": {},
   "outputs": [
    {
     "name": "stdout",
     "output_type": "stream",
     "text": [
      "\n",
      "Our model has 345665 parameters.\n"
     ]
    }
   ],
   "source": [
    "device = 'cpu'\n",
    "\n",
    "model_c = FNO(\n",
    "    n_modes=(16,),         \n",
    "    hidden_channels=64,    \n",
    "    in_channels=1,        \n",
    "    out_channels=1         \n",
    ")\n",
    "model_c = model_c.to(device)\n",
    "\n",
    "n_params = count_model_params(model_c)\n",
    "print(f'\\nOur model has {n_params} parameters.')\n",
    "sys.stdout.flush()\n"
   ]
  },
  {
   "cell_type": "code",
   "execution_count": 12,
   "metadata": {},
   "outputs": [],
   "source": [
    "criterion = torch.nn.MSELoss()\n",
    "optimizer = optim.Adam(model_c.parameters(), lr=0.001)"
   ]
  },
  {
   "cell_type": "code",
   "execution_count": 13,
   "metadata": {},
   "outputs": [
    {
     "name": "stdout",
     "output_type": "stream",
     "text": [
      "Epoch 1/10, Loss: 8.531809417212882\n",
      "Epoch 2/10, Loss: 6.622102115212417\n",
      "Epoch 3/10, Loss: 4.272974793503924\n",
      "Epoch 4/10, Loss: 2.062503628614472\n",
      "Epoch 5/10, Loss: 1.569042022635297\n",
      "Epoch 6/10, Loss: 1.2395629773779613\n",
      "Epoch 7/10, Loss: 0.9944444996554677\n",
      "Epoch 8/10, Loss: 0.7527750745052244\n",
      "Epoch 9/10, Loss: 0.8882613265659751\n",
      "Epoch 10/10, Loss: 0.6493649595394367\n"
     ]
    }
   ],
   "source": [
    "num_epochs = 10\n",
    "# batch_size = 32\n",
    "\n",
    "for epoch in range(num_epochs):\n",
    "    model_c.train()  \n",
    "    epoch_loss = 0.0\n",
    "\n",
    "    for inputs, targets in train_dataloader_c:\n",
    "        optimizer.zero_grad() \n",
    "        predictions = model_c(inputs)  \n",
    "        loss = criterion(predictions, targets)  \n",
    "        loss.backward()  \n",
    "        optimizer.step() \n",
    "        epoch_loss += loss.item()\n",
    "    \n",
    "    print(f\"Epoch {epoch + 1}/{num_epochs}, Loss: {epoch_loss / len(train_dataloader_c)}\")"
   ]
  },
  {
   "cell_type": "code",
   "execution_count": 14,
   "metadata": {},
   "outputs": [
    {
     "name": "stdout",
     "output_type": "stream",
     "text": [
      "Test Loss: 0.5073423566562789\n"
     ]
    }
   ],
   "source": [
    "model_c.eval()\n",
    "test_loss = 0.0\n",
    "with torch.no_grad():\n",
    "    for inputs, targets in test_dataloader_c:\n",
    "        predictions = model_c(inputs)\n",
    "        loss = criterion(predictions, targets)\n",
    "        test_loss += loss.item()\n",
    "print(f\"Test Loss: {test_loss / len(test_dataloader_c)}\")"
   ]
  },
  {
   "cell_type": "code",
   "execution_count": 15,
   "metadata": {},
   "outputs": [],
   "source": [
    "train_dataset_h = TensorDataset(data_i_train, data_h_train)\n",
    "train_dataloader_h = DataLoader(train_dataset_h, batch_size=1024, shuffle=True)\n",
    "\n",
    "test_dataset_h = TensorDataset(data_i_test, data_h_test)\n",
    "test_dataloader_h = DataLoader(test_dataset_h, batch_size=1024, shuffle=True)"
   ]
  },
  {
   "cell_type": "code",
   "execution_count": 16,
   "metadata": {},
   "outputs": [
    {
     "name": "stdout",
     "output_type": "stream",
     "text": [
      "\n",
      "Our model has 345665 parameters.\n"
     ]
    }
   ],
   "source": [
    "model_h = FNO(\n",
    "    n_modes=(16,),         \n",
    "    hidden_channels=40,    \n",
    "    in_channels=1,        \n",
    "    out_channels=1         \n",
    ")\n",
    "model_h = model_c.to(device)\n",
    "\n",
    "n_params = count_model_params(model_h)\n",
    "print(f'\\nOur model has {n_params} parameters.')\n",
    "sys.stdout.flush()\n"
   ]
  },
  {
   "cell_type": "code",
   "execution_count": 17,
   "metadata": {},
   "outputs": [
    {
     "name": "stdout",
     "output_type": "stream",
     "text": [
      "Epoch 1/5, Loss: 0.31314539268794583\n",
      "Epoch 2/5, Loss: 0.06267611069105021\n",
      "Epoch 3/5, Loss: 0.061953247184070144\n",
      "Epoch 4/5, Loss: 0.061158889086871615\n",
      "Epoch 5/5, Loss: 0.06013041021438634\n"
     ]
    }
   ],
   "source": [
    "num_epochs = 5\n",
    "# batch_size = 32\n",
    "\n",
    "for epoch in range(num_epochs):\n",
    "    model_h.train()  \n",
    "    epoch_loss = 0.0\n",
    "\n",
    "    for inputs, targets in train_dataloader_h:\n",
    "        optimizer.zero_grad() \n",
    "        predictions = model_h(inputs)  \n",
    "        loss = criterion(predictions, targets)  \n",
    "        loss.backward()  \n",
    "        optimizer.step() \n",
    "        epoch_loss += loss.item()\n",
    "    \n",
    "    print(f\"Epoch {epoch + 1}/{num_epochs}, Loss: {epoch_loss / len(train_dataloader_h)}\")"
   ]
  },
  {
   "cell_type": "code",
   "execution_count": 18,
   "metadata": {},
   "outputs": [
    {
     "name": "stdout",
     "output_type": "stream",
     "text": [
      "Test Loss: 0.06038714985230139\n"
     ]
    }
   ],
   "source": [
    "model_h.eval()\n",
    "test_loss = 0.0\n",
    "with torch.no_grad():\n",
    "    for inputs, targets in test_dataloader_h:\n",
    "        predictions = model_h(inputs)\n",
    "        loss = criterion(predictions, targets)\n",
    "        test_loss += loss.item()\n",
    "print(f\"Test Loss: {test_loss / len(test_dataloader_h)}\")"
   ]
  }
 ],
 "metadata": {
  "kernelspec": {
   "display_name": "deepxde",
   "language": "python",
   "name": "python3"
  },
  "language_info": {
   "codemirror_mode": {
    "name": "ipython",
    "version": 3
   },
   "file_extension": ".py",
   "mimetype": "text/x-python",
   "name": "python",
   "nbconvert_exporter": "python",
   "pygments_lexer": "ipython3",
   "version": "3.11.11"
  }
 },
 "nbformat": 4,
 "nbformat_minor": 2
}
