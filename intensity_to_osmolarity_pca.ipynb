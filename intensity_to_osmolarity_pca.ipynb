{
 "cells": [
  {
   "cell_type": "code",
   "execution_count": 1,
   "metadata": {},
   "outputs": [],
   "source": [
    "import h5py\n",
    "import numpy as np\n",
    "import matplotlib.pyplot as plt\n",
    "import torch\n",
    "from torch.utils.data import DataLoader, TensorDataset, random_split\n",
    "from torch import nn\n",
    "from sklearn.decomposition import PCA"
   ]
  },
  {
   "cell_type": "markdown",
   "metadata": {},
   "source": [
    "# Load data and create datasets"
   ]
  },
  {
   "cell_type": "code",
   "execution_count": 2,
   "metadata": {},
   "outputs": [
    {
     "name": "stdout",
     "output_type": "stream",
     "text": [
      "Using mps device\n"
     ]
    }
   ],
   "source": [
    "datastore = h5py.File('trials6.h5', 'r')\n",
    "batch_size = 100\n",
    "n_comp = 40\n",
    "\n",
    "raw_I = np.array(datastore[\"I\"])\n",
    "raw_c = np.array(datastore[\"c\"])\n",
    "device = (\n",
    "    \"cuda\"\n",
    "    if torch.cuda.is_available()\n",
    "    else \"mps\"\n",
    "    if torch.backends.mps.is_available()\n",
    "    else \"cpu\"\n",
    ")\n",
    "print(f\"Using {device} device\")\n",
    "\n",
    "pcaI = PCA(n_components=n_comp)\n",
    "pcaI.fit(raw_I)\n",
    "pcac = PCA(n_components=n_comp)\n",
    "pcac.fit(raw_c)\n",
    "\n",
    "data_I = torch.tensor(pcaI.transform(raw_I)).to(device)\n",
    "data_c = torch.tensor(pcac.transform(raw_c)).to(device)\n",
    "\n",
    "dataset = TensorDataset(data_I, data_c)\n",
    "train_size = int(0.8 * len(dataset))\n",
    "test_size = len(dataset) - train_size\n",
    "\n",
    "train_dataset, test_dataset = random_split(dataset, [train_size, test_size])\n",
    "\n",
    "train_dataloader = DataLoader(train_dataset, batch_size=batch_size, shuffle=True)\n",
    "test_dataloader = DataLoader(test_dataset, batch_size=batch_size, shuffle=False)"
   ]
  },
  {
   "cell_type": "markdown",
   "metadata": {},
   "source": [
    "# Define the model"
   ]
  },
  {
   "cell_type": "code",
   "execution_count": 3,
   "metadata": {},
   "outputs": [],
   "source": [
    "class VarTransform(nn.Module):\n",
    "    def __init__(self):\n",
    "        super(VarTransform, self).__init__()\n",
    "\n",
    "    def forward(self, x):\n",
    "        # exp of the 4th input value; pass others unchanged\n",
    "        x[:, 3] = torch.exp(x[:, 3])\n",
    "        return x\n",
    "\n",
    "class net(nn.Module):\n",
    "    def __init__(self, n_components, width):\n",
    "        super().__init__()\n",
    "        self.layers = nn.Sequential(\n",
    "            nn.Linear(n_components, 80),\n",
    "            nn.ReLU(),\n",
    "            nn.Linear(80, width),\n",
    "            nn.ReLU(),\n",
    "            nn.Linear(width, 80),\n",
    "            nn.ReLU(),\n",
    "            nn.Linear(80, n_components),\n",
    "        )\n",
    "\n",
    "    def forward(self, x):\n",
    "        y = self.layers(x)\n",
    "        return y\n",
    "    \n",
    "class net_thin(nn.Module):\n",
    "    def __init__(self, n_components, width):\n",
    "        super().__init__()\n",
    "        self.layers = nn.Sequential(\n",
    "            nn.Linear(n_components, width),\n",
    "            nn.ReLU(),\n",
    "            nn.Linear(width, width),\n",
    "            nn.ReLU(),\n",
    "            nn.Linear(width, n_components),\n",
    "        )\n",
    "\n",
    "    def forward(self, x):\n",
    "        y = self.layers(x)\n",
    "        return y"
   ]
  },
  {
   "cell_type": "code",
   "execution_count": 4,
   "metadata": {},
   "outputs": [
    {
     "name": "stdout",
     "output_type": "stream",
     "text": [
      "net_thin(\n",
      "  (layers): Sequential(\n",
      "    (0): Linear(in_features=40, out_features=200, bias=True)\n",
      "    (1): ReLU()\n",
      "    (2): Linear(in_features=200, out_features=200, bias=True)\n",
      "    (3): ReLU()\n",
      "    (4): Linear(in_features=200, out_features=40, bias=True)\n",
      "  )\n",
      ")\n"
     ]
    }
   ],
   "source": [
    "model = net_thin(n_comp,200).to(device)\n",
    "print(model)"
   ]
  },
  {
   "cell_type": "markdown",
   "metadata": {},
   "source": [
    "# Training"
   ]
  },
  {
   "cell_type": "code",
   "execution_count": 5,
   "metadata": {},
   "outputs": [],
   "source": [
    "def train_loop(dataloader, model, loss_fn, optimizer):\n",
    "    size = len(dataloader.dataset)\n",
    "    # Set the model to training mode - important for batch normalization and dropout layers\n",
    "    # Unnecessary in this situation but added for best practices\n",
    "    model.train()\n",
    "    for batch, (X, y) in enumerate(dataloader):\n",
    "        # Compute prediction and loss\n",
    "        pred = model(X)\n",
    "        loss = loss_fn(pred, y)\n",
    "\n",
    "        # Backpropagation\n",
    "        loss.backward()\n",
    "        optimizer.step()\n",
    "        optimizer.zero_grad()\n",
    "\n",
    "        if batch % 100 == 0:\n",
    "            loss, current = loss.item(), batch * batch_size + len(X)\n",
    "            print(f\"loss: {loss:>7f}  [{current:>5d}/{size:>5d}]\")\n",
    "\n",
    "\n",
    "def test_loop(dataloader, model, loss_fn):\n",
    "    # Set the model to evaluation mode - important for batch normalization and dropout layers\n",
    "    # Unnecessary in this situation but added for best practices\n",
    "    model.eval()\n",
    "    size = len(dataloader.dataset)\n",
    "    num_batches = len(dataloader)\n",
    "    test_loss, correct = 0, 0\n",
    "\n",
    "    # Evaluating the model with torch.no_grad() ensures that no gradients are computed during test mode\n",
    "    # also serves to reduce unnecessary gradient computations and memory usage for tensors with requires_grad=True\n",
    "    with torch.no_grad():\n",
    "        for X, y in dataloader:\n",
    "            pred = model(X)\n",
    "            test_loss += loss_fn(pred, y).item()\n",
    "\n",
    "    test_loss /= num_batches\n",
    "    print(f\"Test Error: Avg loss = {test_loss:>8f} \\n\")"
   ]
  },
  {
   "cell_type": "code",
   "execution_count": 6,
   "metadata": {},
   "outputs": [
    {
     "name": "stdout",
     "output_type": "stream",
     "text": [
      "Epoch 1\n",
      "-------------------------------\n",
      "loss: 9.906743  [  100/32000]\n",
      "loss: 3.454235  [10100/32000]\n",
      "loss: 2.817136  [20100/32000]\n",
      "loss: 1.997829  [30100/32000]\n",
      "Test Error: Avg loss = 1.846327 \n",
      "\n",
      "Epoch 2\n",
      "-------------------------------\n",
      "loss: 2.079950  [  100/32000]\n",
      "loss: 0.980801  [10100/32000]\n",
      "loss: 1.172357  [20100/32000]\n",
      "loss: 0.258233  [30100/32000]\n",
      "Test Error: Avg loss = 0.465782 \n",
      "\n",
      "Epoch 3\n",
      "-------------------------------\n",
      "loss: 0.309879  [  100/32000]\n",
      "loss: 0.153672  [10100/32000]\n",
      "loss: 0.176092  [20100/32000]\n",
      "loss: 0.101372  [30100/32000]\n",
      "Test Error: Avg loss = 0.160967 \n",
      "\n",
      "Epoch 4\n",
      "-------------------------------\n",
      "loss: 0.141055  [  100/32000]\n",
      "loss: 0.072605  [10100/32000]\n",
      "loss: 0.171786  [20100/32000]\n",
      "loss: 0.114423  [30100/32000]\n",
      "Test Error: Avg loss = 0.094961 \n",
      "\n",
      "Epoch 5\n",
      "-------------------------------\n",
      "loss: 0.082289  [  100/32000]\n",
      "loss: 0.074349  [10100/32000]\n",
      "loss: 0.043657  [20100/32000]\n",
      "loss: 0.062722  [30100/32000]\n",
      "Test Error: Avg loss = 0.072867 \n",
      "\n",
      "Epoch 6\n",
      "-------------------------------\n",
      "loss: 0.058377  [  100/32000]\n",
      "loss: 0.070723  [10100/32000]\n",
      "loss: 0.051085  [20100/32000]\n",
      "loss: 0.040097  [30100/32000]\n",
      "Test Error: Avg loss = 0.054037 \n",
      "\n",
      "Epoch 7\n",
      "-------------------------------\n",
      "loss: 0.040481  [  100/32000]\n",
      "loss: 0.062170  [10100/32000]\n",
      "loss: 0.039881  [20100/32000]\n",
      "loss: 0.112145  [30100/32000]\n",
      "Test Error: Avg loss = 0.045949 \n",
      "\n",
      "Epoch 8\n",
      "-------------------------------\n",
      "loss: 0.041353  [  100/32000]\n",
      "loss: 0.044709  [10100/32000]\n",
      "loss: 0.045260  [20100/32000]\n",
      "loss: 0.030865  [30100/32000]\n",
      "Test Error: Avg loss = 0.051824 \n",
      "\n",
      "Epoch 9\n",
      "-------------------------------\n",
      "loss: 0.088766  [  100/32000]\n",
      "loss: 0.037729  [10100/32000]\n",
      "loss: 0.033775  [20100/32000]\n",
      "loss: 0.020122  [30100/32000]\n",
      "Test Error: Avg loss = 0.035733 \n",
      "\n",
      "Epoch 10\n",
      "-------------------------------\n",
      "loss: 0.049867  [  100/32000]\n",
      "loss: 0.027316  [10100/32000]\n",
      "loss: 0.046299  [20100/32000]\n",
      "loss: 0.042005  [30100/32000]\n",
      "Test Error: Avg loss = 0.029961 \n",
      "\n",
      "Done!\n"
     ]
    }
   ],
   "source": [
    "learning_rate = 2e-3\n",
    "loss_fn = nn.MSELoss()\n",
    "optimizer = torch.optim.Adam(model.parameters(), lr=learning_rate)\n",
    "epochs = 10\n",
    "for t in range(epochs):\n",
    "    print(f\"Epoch {t+1}\\n-------------------------------\")\n",
    "    train_loop(train_dataloader, model, loss_fn, optimizer)\n",
    "    test_loop(test_dataloader, model, loss_fn)\n",
    "print(\"Done!\")"
   ]
  },
  {
   "cell_type": "markdown",
   "metadata": {},
   "source": [
    "# Inspecting results"
   ]
  },
  {
   "cell_type": "code",
   "execution_count": 7,
   "metadata": {},
   "outputs": [
    {
     "data": {
      "text/plain": [
       "tensor([[-2.2474e+01,  1.9404e+00, -4.7883e-01, -6.9327e-02,  1.5346e-01,\n",
       "         -1.8914e-01,  1.6412e-01, -1.7274e-01,  8.6780e-02, -1.7958e-01,\n",
       "          6.0164e-02,  8.2214e-02, -7.8770e-03, -8.1099e-02,  2.9002e-02,\n",
       "         -3.0510e-02,  1.1379e-02, -3.5940e-02,  1.5677e-02,  5.4685e-03,\n",
       "         -8.2567e-03, -1.8497e-02, -3.2754e-02,  3.0897e-02, -5.3805e-03,\n",
       "          3.2111e-03, -6.2427e-03,  6.0405e-03,  7.1050e-03, -4.8672e-03,\n",
       "          9.8464e-03,  9.3477e-03,  6.4630e-03, -1.5838e-02,  5.9664e-03,\n",
       "         -1.1944e-02,  1.0495e-02,  9.7922e-03,  2.1544e-02, -5.0356e-03],\n",
       "        [-1.3592e+01, -2.8080e+00,  2.2665e+00, -1.7644e+00,  1.3973e+00,\n",
       "         -1.0246e+00,  6.9490e-01, -5.2277e-01,  3.1525e-01, -3.1818e-01,\n",
       "          8.8454e-02,  1.3216e-01, -3.5670e-02, -6.6602e-02, -1.0212e-02,\n",
       "         -2.7861e-03,  5.2888e-03, -1.3841e-02,  2.5897e-02,  1.3541e-03,\n",
       "         -7.0283e-03, -1.4408e-02, -2.2840e-02,  1.7562e-02, -7.1788e-04,\n",
       "         -1.6563e-03,  5.9039e-03,  4.7340e-03, -6.9902e-03,  4.8211e-03,\n",
       "          1.1651e-02,  1.6576e-02, -4.6313e-03, -1.2459e-02,  3.5655e-03,\n",
       "         -1.8746e-03,  4.9286e-03,  2.0817e-02,  1.8576e-02, -5.4621e-03],\n",
       "        [ 8.8797e-01, -9.4851e+00,  4.6759e+00, -2.1855e+00,  8.4830e-01,\n",
       "         -1.8731e-01, -1.9955e-01,  3.0224e-01, -3.3962e-01,  2.1790e-01,\n",
       "         -2.8096e-01, -1.2553e-01,  1.0381e-01,  8.3573e-03, -4.1777e-02,\n",
       "         -1.1129e-02,  1.0417e-02, -3.8267e-02, -7.1742e-03,  9.3373e-03,\n",
       "         -4.2366e-04, -1.6941e-02, -2.8347e-02,  2.0220e-02, -4.5453e-03,\n",
       "          3.0496e-03,  2.4866e-03,  8.0679e-03,  5.4314e-03, -5.5071e-03,\n",
       "          1.4863e-02,  1.8256e-02,  3.0335e-03, -1.2702e-02,  3.4960e-03,\n",
       "         -7.3127e-03,  6.3854e-03,  1.0809e-02,  6.7681e-03, -3.8432e-03]],\n",
       "       device='mps:0', grad_fn=<LinearBackward0>)"
      ]
     },
     "execution_count": 7,
     "metadata": {},
     "output_type": "execute_result"
    }
   ],
   "source": [
    "model(data_I[10:13])"
   ]
  },
  {
   "cell_type": "code",
   "execution_count": 8,
   "metadata": {},
   "outputs": [
    {
     "data": {
      "text/plain": [
       "tensor([[-2.3195e+01,  2.0849e+00, -3.1785e-01,  5.2177e-02,  1.0395e-01,\n",
       "         -7.3159e-02,  9.5243e-02, -7.3650e-02,  7.3238e-02, -5.8252e-02,\n",
       "          5.2548e-02,  4.2110e-02, -3.7984e-02, -2.8706e-02,  2.5543e-02,\n",
       "         -1.6209e-02,  1.2498e-02, -1.1070e-02, -4.2273e-03, -8.4655e-03,\n",
       "          6.7207e-03, -8.5188e-03, -7.5793e-03,  4.5487e-03, -3.2559e-04,\n",
       "          4.4747e-03, -4.3945e-03,  3.4527e-03,  7.3297e-04,  4.0403e-04,\n",
       "          5.8584e-04,  6.2463e-04,  1.3813e-04,  7.1094e-04,  2.6375e-04,\n",
       "         -1.4102e-03, -1.1289e-05, -9.3192e-04,  1.2624e-03,  1.6067e-04],\n",
       "        [-1.4308e+01, -2.4845e+00,  2.3054e+00, -1.6995e+00,  1.3485e+00,\n",
       "         -9.8763e-01,  7.2819e-01, -5.1755e-01,  3.7026e-01, -2.7222e-01,\n",
       "          1.9547e-01,  1.4480e-01, -1.0394e-01, -7.0859e-02,  4.6763e-02,\n",
       "         -2.6068e-02,  9.0804e-03, -6.9275e-03,  8.5999e-03, -1.3954e-02,\n",
       "         -5.4482e-03, -1.4773e-02, -8.7819e-03,  3.7682e-03, -1.5234e-03,\n",
       "          1.6469e-03,  6.3633e-04, -1.3097e-03,  2.3085e-04,  8.3296e-04,\n",
       "          2.8911e-04, -1.3171e-03,  3.9949e-04, -4.0959e-04,  7.6921e-04,\n",
       "          1.1575e-03, -4.0516e-04,  1.3593e-03, -1.5456e-04, -9.2713e-04],\n",
       "        [ 6.8116e-01, -9.2772e+00,  4.6765e+00, -2.1234e+00,  7.9610e-01,\n",
       "         -1.1485e-01, -2.1829e-01,  3.0796e-01, -3.0104e-01,  2.4979e-01,\n",
       "         -1.8258e-01, -1.2442e-01,  7.2052e-02,  2.9900e-02,  1.1059e-03,\n",
       "         -1.8659e-02,  1.4260e-02, -2.8870e-02, -2.3015e-02,  2.8104e-03,\n",
       "          5.1327e-03, -9.1464e-03, -3.6805e-03,  9.1163e-03, -2.8528e-03,\n",
       "          8.1475e-03, -4.7220e-03,  2.9322e-03, -2.8458e-05,  2.5613e-03,\n",
       "          6.7380e-04, -7.1745e-04,  1.0403e-03,  1.7752e-04,  1.4761e-03,\n",
       "         -6.3444e-04, -1.6987e-03,  1.1170e-03,  1.2444e-03, -8.6469e-04]],\n",
       "       device='mps:0')"
      ]
     },
     "execution_count": 8,
     "metadata": {},
     "output_type": "execute_result"
    }
   ],
   "source": [
    "data_c[10:13]"
   ]
  },
  {
   "cell_type": "code",
   "execution_count": 12,
   "metadata": {},
   "outputs": [
    {
     "data": {
      "image/png": "[encoded data removed]",
      "text/plain": [
       "<Figure size 640x480 with 1 Axes>"
      ]
     },
     "metadata": {},
     "output_type": "display_data"
    }
   ],
   "source": [
    "example = 11\n",
    "with torch.no_grad():\n",
    "    x, y = test_dataset[example]\n",
    "    plt.plot(pcac.inverse_transform(model(x).cpu()))\n",
    "    plt.plot(pcac.inverse_transform(y.cpu()))\n",
    "plt.show()"
   ]
  },
  {
   "cell_type": "markdown",
   "metadata": {},
   "source": [
    "# RMS error in time series"
   ]
  },
  {
   "cell_type": "code",
   "execution_count": 45,
   "metadata": {},
   "outputs": [],
   "source": [
    "with torch.no_grad():\n",
    "    test_osmo_pred = np.zeros((0, 101))\n",
    "    test_osmo_actual = np.zeros((0, 101))\n",
    "    for (x, y) in test_dataloader:\n",
    "        test_osmo_pred = np.vstack((test_osmo_pred, pcac.inverse_transform(model(x).cpu())))\n",
    "        test_osmo_actual = np.vstack((test_osmo_actual, pcac.inverse_transform(y.cpu())))\n",
    "    train_osmo_pred = np.zeros((0, 101))\n",
    "    train_osmo_actual = np.zeros((0, 101))\n",
    "    for (x, y) in train_dataloader:\n",
    "        train_osmo_pred = np.vstack((train_osmo_pred, pcac.inverse_transform(model(x).cpu())))\n",
    "        train_osmo_actual = np.vstack((train_osmo_actual, pcac.inverse_transform(y.cpu())))"
   ]
  },
  {
   "cell_type": "code",
   "execution_count": 46,
   "metadata": {},
   "outputs": [
    {
     "data": {
      "image/png": "[encoded data removed]",
      "text/plain": [
       "<Figure size 640x480 with 1 Axes>"
      ]
     },
     "metadata": {},
     "output_type": "display_data"
    }
   ],
   "source": [
    "rmserror = np.apply_along_axis(np.linalg.norm, 1, test_osmo_pred - test_osmo_actual)\n",
    "plt.hist(np.log10(rmserror), bins=np.linspace(-1.5,1,31))\n",
    "plt.xlabel('log_10(rms error)')\n",
    "plt.ylabel('count')\n",
    "plt.title('test error')\n",
    "plt.show()"
   ]
  },
  {
   "cell_type": "code",
   "execution_count": 47,
   "metadata": {},
   "outputs": [
    {
     "data": {
      "image/png": "[encoded data removed]",
      "text/plain": [
       "<Figure size 640x480 with 1 Axes>"
      ]
     },
     "metadata": {},
     "output_type": "display_data"
    }
   ],
   "source": [
    "rmserror = np.apply_along_axis(np.linalg.norm, 1, train_osmo_pred - train_osmo_actual)\n",
    "plt.hist(np.log10(rmserror), bins=np.linspace(-1.5,1,31))\n",
    "plt.xlabel('log_10(rms error)')\n",
    "plt.ylabel('count')\n",
    "plt.title('train error')\n",
    "plt.show()"
   ]
  },
  {
   "cell_type": "code",
   "execution_count": 48,
   "metadata": {},
   "outputs": [
    {
     "data": {
      "image/png": "[encoded data removed]",
      "text/plain": [
       "<Figure size 640x480 with 1 Axes>"
      ]
     },
     "metadata": {},
     "output_type": "display_data"
    }
   ],
   "source": [
    "peakerror = np.max(test_osmo_pred, axis=1) - np.max(test_osmo_actual, axis=1)\n",
    "plt.hist(np.log10(np.abs(peakerror)), bins=np.linspace(-3,0,31))\n",
    "plt.xlabel('log_10(difference in peak osmolarity)')\n",
    "plt.ylabel('count')\n",
    "plt.title('test error')\n",
    "plt.show()"
   ]
  },
  {
   "cell_type": "code",
   "execution_count": 56,
   "metadata": {},
   "outputs": [],
   "source": [
    "#torch.save(model.state_dict(), 'model_osm_pca_size_40x200')"
   ]
  }
 ],
 "metadata": {
  "kernelspec": {
   "display_name": "datasci",
   "language": "python",
   "name": "python3"
  },
  "language_info": {
   "codemirror_mode": {
    "name": "ipython",
    "version": 3
   },
   "file_extension": ".py",
   "mimetype": "text/x-python",
   "name": "python",
   "nbconvert_exporter": "python",
   "pygments_lexer": "ipython3",
   "version": "3.11.0"
  }
 },
 "nbformat": 4,
 "nbformat_minor": 2
}
