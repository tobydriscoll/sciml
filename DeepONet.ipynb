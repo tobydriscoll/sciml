{
 "cells": [
  {
   "cell_type": "markdown",
   "metadata": {},
   "source": [
    "**DeepONet using DeepXDE module**"
   ]
  },
  {
   "cell_type": "code",
   "execution_count": 1,
   "metadata": {},
   "outputs": [
    {
     "name": "stderr",
     "output_type": "stream",
     "text": [
      "Using backend: pytorch\n",
      "Other supported backends: tensorflow.compat.v1, tensorflow, jax, paddle.\n",
      "paddle supports more examples now and is recommended.\n"
     ]
    }
   ],
   "source": [
    "import deepxde as dde\n",
    "import matplotlib.pyplot as plt\n",
    "import numpy as np\n",
    "import h5py\n",
    "from sklearn.model_selection import train_test_split\n",
    "from torch.optim.lr_scheduler import ReduceLROnPlateau"
   ]
  },
  {
   "cell_type": "markdown",
   "metadata": {},
   "source": [
    "Data loading"
   ]
  },
  {
   "cell_type": "code",
   "execution_count": 2,
   "metadata": {},
   "outputs": [],
   "source": [
    "datastore = h5py.File(\"C:/Users/arnab/OneDrive/Desktop/Study material/summer 24/Research/New equations/datasets/trials_many_alldata_new_eqution2.h5\", 'r')\n",
    "data_I = np.array(np.array(datastore[\"I\"]))\n",
    "\n",
    "data_c = np.array(np.array(datastore[\"c\"]))\n",
    "data_h = np.array(np.array(datastore[\"h\"]))\n",
    "t = np.linspace(0, 1, 601).reshape(601, 1)"
   ]
  },
  {
   "cell_type": "markdown",
   "metadata": {},
   "source": [
    "Train-test split"
   ]
  },
  {
   "cell_type": "code",
   "execution_count": 3,
   "metadata": {},
   "outputs": [],
   "source": [
    "train_label, test_label = train_test_split(range(len(data_I)), test_size=0.25, random_state=42)\n",
    "\n",
    "data_i_train = data_I[train_label,:]\n",
    "data_i_test = data_I[test_label,:]\n",
    "\n",
    "data_c_train = data_c[train_label,:]\n",
    "data_c_test = data_c[test_label,:]\n",
    "\n",
    "data_h_train = data_h[train_label,:]\n",
    "data_h_test = data_h[test_label,:]"
   ]
  },
  {
   "cell_type": "code",
   "execution_count": 4,
   "metadata": {},
   "outputs": [],
   "source": [
    "# d_train = np.load(\"C:/Users/arnab/OneDrive/Desktop/Study material/summer 24/Research/New equations/datasets/deepxde_deeponet_trial/deeponet_antiderivative_aligned/antiderivative_aligned_train.npz\", allow_pickle=True)\n",
    "# X_train = (d_train[\"X\"][0].astype(np.float32), d_train[\"X\"][1].astype(np.float32))\n",
    "# y_train = d_train[\"y\"].astype(np.float32)"
   ]
  },
  {
   "cell_type": "code",
   "execution_count": 5,
   "metadata": {},
   "outputs": [],
   "source": [
    "X_train = (data_i_train.astype(np.float32), t.astype(np.float32))\n",
    "y_train_c = data_c_train.astype(np.float32)"
   ]
  },
  {
   "cell_type": "code",
   "execution_count": 6,
   "metadata": {},
   "outputs": [],
   "source": [
    "# d_test = np.load(\"C:/Users/arnab/OneDrive/Desktop/Study material/summer 24/Research/New equations/datasets/deepxde_deeponet_trial/deeponet_antiderivative_aligned/antiderivative_aligned_test.npz\", allow_pickle=True)\n",
    "# X_test = (d_test[\"X\"][0].astype(np.float32), d_test[\"X\"][1].astype(np.float32))\n",
    "# y_test = d_test[\"y\"].astype(np.float32)"
   ]
  },
  {
   "cell_type": "code",
   "execution_count": 7,
   "metadata": {},
   "outputs": [],
   "source": [
    "X_test = (data_i_test.astype(np.float32), t.astype(np.float32))\n",
    "y_test_c = data_c_test.astype(np.float32)"
   ]
  },
  {
   "cell_type": "markdown",
   "metadata": {},
   "source": [
    "**Making the data compatible with deepxde.nn.pytorch.deeponet.PODDeepONet**"
   ]
  },
  {
   "cell_type": "code",
   "execution_count": 8,
   "metadata": {},
   "outputs": [],
   "source": [
    "data_c = dde.data.TripleCartesianProd(\n",
    "    X_train=X_train, y_train=y_train_c, X_test=X_test, y_test=y_test_c\n",
    ")"
   ]
  },
  {
   "cell_type": "markdown",
   "metadata": {},
   "source": [
    "**Counting the number of learnable parameters in the model**"
   ]
  },
  {
   "cell_type": "code",
   "execution_count": 9,
   "metadata": {},
   "outputs": [],
   "source": [
    "m = 601\n",
    "dim_x = 1\n",
    "net = dde.nn.DeepONetCartesianProd(\n",
    "    [m, 400, 400, 400, 400],\n",
    "    [dim_x, 400, 400, 400, 400],\n",
    "    \"relu\",\n",
    "    \"Glorot normal\",\n",
    ")"
   ]
  },
  {
   "cell_type": "code",
   "execution_count": 10,
   "metadata": {},
   "outputs": [
    {
     "name": "stdout",
     "output_type": "stream",
     "text": [
      "Total trainable parameters: 1204000, branch parameters: 722000, trunk parameters: 482000\n"
     ]
    }
   ],
   "source": [
    "def compute_parameters(layers):\n",
    "    params = 0\n",
    "    for i in range(len(layers) - 1):\n",
    "        params += layers[i] * layers[i + 1]  # Weights\n",
    "        params += layers[i + 1]             # Biases\n",
    "    return params\n",
    "\n",
    "branch_layers = [m, 400, 400, 400, 400]\n",
    "trunk_layers = [dim_x, 400, 400, 400, 400]\n",
    "\n",
    "branch_params = compute_parameters(branch_layers)\n",
    "trunk_params = compute_parameters(trunk_layers)\n",
    "total_params = branch_params + trunk_params\n",
    "print(f\"Total trainable parameters: {total_params}, branch parameters: {branch_params}, trunk parameters: {trunk_params}\")\n"
   ]
  },
  {
   "cell_type": "markdown",
   "metadata": {},
   "source": [
    "**Training the model**"
   ]
  },
  {
   "cell_type": "code",
   "execution_count": 11,
   "metadata": {},
   "outputs": [
    {
     "name": "stdout",
     "output_type": "stream",
     "text": [
      "Compiling model...\n",
      "'compile' took 2.582271 s\n",
      "\n",
      "Training model...\n",
      "\n",
      "Step      Train loss    Test loss     Test metric\n",
      "0         [1.83e+01]    [1.81e+01]    []  \n",
      "100       [2.36e+00]    [2.32e+00]    []  \n",
      "200       [1.21e+00]    [1.19e+00]    []  \n",
      "300       [6.53e-01]    [6.47e-01]    []  \n",
      "400       [5.61e-01]    [5.57e-01]    []  \n",
      "500       [5.28e-01]    [5.17e-01]    []  \n",
      "600       [3.11e-01]    [3.04e-01]    []  \n",
      "700       [2.83e-01]    [2.79e-01]    []  \n",
      "800       [2.07e-01]    [2.03e-01]    []  \n",
      "900       [2.03e-01]    [2.00e-01]    []  \n",
      "1000      [1.65e-01]    [1.62e-01]    []  \n",
      "\n",
      "Best model at step 1000:\n",
      "  train loss: 1.65e-01\n",
      "  test loss: 1.62e-01\n",
      "  test metric: []\n",
      "\n",
      "'train' took 1967.420213 s\n",
      "\n"
     ]
    }
   ],
   "source": [
    "model_c = dde.Model(data_c, net)\n",
    "# lr = ReduceLROnPlateau(optimizer_combined, mode='min', factor=0.5, patience=5)\n",
    "model_c.compile(\"adam\", lr=0.001)\n",
    "losshistory_c, train_state_c = model_c.train(iterations=1000, display_every=100)"
   ]
  },
  {
   "cell_type": "code",
   "execution_count": 12,
   "metadata": {},
   "outputs": [],
   "source": [
    "y_train_h = data_h_train.astype(np.float32)\n",
    "y_test_h = data_h_test.astype(np.float32)"
   ]
  },
  {
   "cell_type": "code",
   "execution_count": 13,
   "metadata": {},
   "outputs": [],
   "source": [
    "data_h = dde.data.TripleCartesianProd(\n",
    "    X_train=X_train, y_train=y_train_h, X_test=X_test, y_test=y_test_h\n",
    ")"
   ]
  },
  {
   "cell_type": "code",
   "execution_count": 14,
   "metadata": {},
   "outputs": [],
   "source": [
    "m = 601\n",
    "dim_x = 1\n",
    "net = dde.nn.DeepONetCartesianProd(\n",
    "    [m, 400, 400, 400, 400],\n",
    "    [dim_x, 400, 400, 400, 400],\n",
    "    \"relu\",\n",
    "    \"Glorot normal\",\n",
    ")"
   ]
  },
  {
   "cell_type": "code",
   "execution_count": 15,
   "metadata": {},
   "outputs": [
    {
     "name": "stdout",
     "output_type": "stream",
     "text": [
      "Total trainable parameters: 722000, branch parameters: 722000, trunk parameters: 0\n"
     ]
    }
   ],
   "source": [
    "branch_layers = [m, 400, 400, 400, 400]\n",
    "trunk_layers = [dim_x, 400, 400, 400, 400],\n",
    "\n",
    "branch_params = compute_parameters(branch_layers)\n",
    "trunk_params = compute_parameters(trunk_layers)\n",
    "total_params = branch_params + trunk_params\n",
    "print(f\"Total trainable parameters: {total_params}, branch parameters: {branch_params}, trunk parameters: {trunk_params}\")\n"
   ]
  },
  {
   "cell_type": "code",
   "execution_count": 16,
   "metadata": {},
   "outputs": [
    {
     "name": "stdout",
     "output_type": "stream",
     "text": [
      "Compiling model...\n",
      "'compile' took 0.003206 s\n",
      "\n",
      "Training model...\n",
      "\n",
      "Step      Train loss    Test loss     Test metric\n",
      "0         [1.59e-01]    [1.61e-01]    []  \n",
      "100       [3.65e-02]    [3.66e-02]    []  \n",
      "200       [2.85e-02]    [2.87e-02]    []  \n",
      "300       [2.09e-02]    [2.12e-02]    []  \n",
      "400       [1.93e-02]    [1.96e-02]    []  \n",
      "500       [1.78e-02]    [1.80e-02]    []  \n",
      "600       [1.87e-02]    [1.90e-02]    []  \n",
      "700       [1.55e-02]    [1.58e-02]    []  \n",
      "800       [1.38e-02]    [1.40e-02]    []  \n",
      "900       [1.57e-02]    [1.61e-02]    []  \n",
      "1000      [1.16e-02]    [1.17e-02]    []  \n",
      "\n",
      "Best model at step 1000:\n",
      "  train loss: 1.16e-02\n",
      "  test loss: 1.17e-02\n",
      "  test metric: []\n",
      "\n",
      "'train' took 2041.452214 s\n",
      "\n"
     ]
    }
   ],
   "source": [
    "model_h = dde.Model(data_h, net)\n",
    "# lr = ReduceLROnPlateau(optimizer_combined, mode='min', factor=0.5, patience=5)\n",
    "model_h.compile(\"adam\", lr=0.01)\n",
    "losshistory_h, train_state_h = model_h.train(iterations=1000, display_every=100)"
   ]
  },
  {
   "cell_type": "code",
   "execution_count": 17,
   "metadata": {},
   "outputs": [
    {
     "data": {
      "text/plain": [
       "27886"
      ]
     },
     "execution_count": 17,
     "metadata": {},
     "output_type": "execute_result"
    }
   ],
   "source": [
    "len(data_h_test)"
   ]
  },
  {
   "cell_type": "code",
   "execution_count": 20,
   "metadata": {},
   "outputs": [
    {
     "data": {
      "image/png": "[encoded data removed]",
      "text/plain": [
       "<Figure size 640x480 with 1 Axes>"
      ]
     },
     "metadata": {},
     "output_type": "display_data"
    }
   ],
   "source": [
    "n = np.random.randint(0, len(data_h_test))\n",
    "pred_h = model_h.predict((data_i_test[n].reshape(1, -1), t))\n",
    "plt.figure()\n",
    "plt.plot(t, data_h_test[n], label=\"Real\")\n",
    "plt.plot(t, pred_h.T, label=\"Predicted\")\n",
    "plt.xlabel(\"Time(t)\")\n",
    "plt.ylabel(\"h(t)\")\n",
    "plt.legend()\n",
    "plt.show()"
   ]
  },
  {
   "cell_type": "code",
   "execution_count": 21,
   "metadata": {},
   "outputs": [
    {
     "data": {
      "image/png": "[encoded data removed]",
      "text/plain": [
       "<Figure size 640x480 with 1 Axes>"
      ]
     },
     "metadata": {},
     "output_type": "display_data"
    }
   ],
   "source": [
    "n = np.random.randint(0, len(data_h_test))\n",
    "pred_c = model_c.predict((data_i_test[n].reshape(1, -1), t))\n",
    "plt.figure()\n",
    "plt.plot(t, data_c_test[n], label=\"Real\")\n",
    "plt.plot(t, pred_c.T, label=\"Predicted\")\n",
    "plt.xlabel(\"Time(t)\")\n",
    "plt.ylabel(\"c(t)\")\n",
    "plt.legend()\n",
    "plt.show()"
   ]
  }
 ],
 "metadata": {
  "kernelspec": {
   "display_name": "deepxde",
   "language": "python",
   "name": "python3"
  },
  "language_info": {
   "codemirror_mode": {
    "name": "ipython",
    "version": 3
   },
   "file_extension": ".py",
   "mimetype": "text/x-python",
   "name": "python",
   "nbconvert_exporter": "python",
   "pygments_lexer": "ipython3",
   "version": "3.11.11"
  }
 },
 "nbformat": 4,
 "nbformat_minor": 2
}
