{
 "cells": [
  {
   "cell_type": "code",
   "execution_count": 1,
   "metadata": {},
   "outputs": [],
   "source": [
    "import h5py\n",
    "import numpy as np\n",
    "import matplotlib.pyplot as plt\n",
    "import torch\n",
    "from torch.utils.data import DataLoader, Dataset, TensorDataset, random_split\n",
    "from torch import nn\n",
    "import numpy.polynomial.chebyshev as cheb"
   ]
  },
  {
   "cell_type": "code",
   "execution_count": 2,
   "metadata": {},
   "outputs": [
    {
     "data": {
      "text/plain": [
       "array([-1.00000000e+00, -7.07106781e-01,  6.12323400e-17,  7.07106781e-01,\n",
       "        1.00000000e+00])"
      ]
     },
     "execution_count": 2,
     "metadata": {},
     "output_type": "execute_result"
    }
   ],
   "source": [
    "cheb.chebpts2(5)"
   ]
  },
  {
   "cell_type": "markdown",
   "metadata": {},
   "source": [
    "# Load data and create datasets"
   ]
  },
  {
   "cell_type": "code",
   "execution_count": 3,
   "metadata": {},
   "outputs": [
    {
     "name": "stdout",
     "output_type": "stream",
     "text": [
      "Using mps device\n"
     ]
    },
    {
     "name": "stderr",
     "output_type": "stream",
     "text": [
      "/var/folders/gc/0752xrm56pnf0r0dsrn5370c0000gr/T/ipykernel_27329/1543618932.py:3: DeprecationWarning: `product` is deprecated as of NumPy 1.25.0, and will be removed in NumPy 2.0. Please use `prod` instead.\n",
      "  data_I = torch.tensor(np.array(datastore[\"I\"]))\n",
      "/var/folders/gc/0752xrm56pnf0r0dsrn5370c0000gr/T/ipykernel_27329/1543618932.py:4: DeprecationWarning: `product` is deprecated as of NumPy 1.25.0, and will be removed in NumPy 2.0. Please use `prod` instead.\n",
      "  data_c = torch.tensor(np.array(datastore[\"c\"]))\n"
     ]
    }
   ],
   "source": [
    "batch_size = 512\n",
    "datastore = h5py.File('trials6.h5', 'r')\n",
    "data_I = torch.tensor(np.array(datastore[\"I\"]))\n",
    "data_c = torch.tensor(np.array(datastore[\"c\"]))\n",
    "device = (\n",
    "    \"cuda\"\n",
    "    if torch.cuda.is_available()\n",
    "    else \"mps\"\n",
    "    if torch.backends.mps.is_available()\n",
    "    else \"cpu\"\n",
    ")\n",
    "# device = \"cpu\"\n",
    "print(f\"Using {device} device\")"
   ]
  },
  {
   "cell_type": "code",
   "execution_count": 5,
   "metadata": {},
   "outputs": [
    {
     "data": {
      "text/plain": [
       "array([ 0.28521594, -0.27515558,  0.12276795, -0.06841707,  0.04665993,\n",
       "       -0.03361407,  0.02432562, -0.01898448,  0.01481664, -0.01222998,\n",
       "        0.00997916, -0.0085742 ,  0.00722219, -0.00639272,  0.00551137,\n",
       "       -0.00499287,  0.00438069])"
      ]
     },
     "execution_count": 5,
     "metadata": {},
     "output_type": "execute_result"
    }
   ],
   "source": [
    "N = data_I.shape[1]\n",
    "xc = cheb.chebpts2(N)\n",
    "Ic = cheb.chebfit(xc, data_I[0].numpy(), 16)\n",
    "Ic"
   ]
  },
  {
   "cell_type": "code",
   "execution_count": 6,
   "metadata": {},
   "outputs": [
    {
     "data": {
      "text/plain": [
       "array([ 1.96739913, -2.00197757,  2.79435333, -3.37644829,  3.7585605 ,\n",
       "       -4.08624017,  4.40952034, -4.65737055,  4.90520652, -5.09704945,\n",
       "        5.30042806, -5.45216358,  5.62375699, -5.74575323,  5.89409769,\n",
       "       -5.99289803,  6.1237013 ])"
      ]
     },
     "execution_count": 6,
     "metadata": {},
     "output_type": "execute_result"
    }
   ],
   "source": [
    "np.arcsinh(1 / Ic)"
   ]
  },
  {
   "cell_type": "code",
   "execution_count": 10,
   "metadata": {},
   "outputs": [
    {
     "data": {
      "text/plain": [
       "[<matplotlib.lines.Line2D at 0x16fc64990>]"
      ]
     },
     "execution_count": 10,
     "metadata": {},
     "output_type": "execute_result"
    },
    {
     "data": {
      "image/png": "[encoded data removed]",
      "text/plain": [
       "<Figure size 640x480 with 1 Axes>"
      ]
     },
     "metadata": {},
     "output_type": "display_data"
    }
   ],
   "source": [
    "plt.plot(np.array(datastore[\"t\"]), data_I[0])"
   ]
  },
  {
   "cell_type": "markdown",
   "metadata": {},
   "source": [
    "Input data consists of I values, followed by a t value where c(t) is the output. So we will use every row in `I` combined with the first time value, then every row in `I` combined with the second time value, and so on. There will be (40000)(101) samples now."
   ]
  },
  {
   "cell_type": "code",
   "execution_count": 146,
   "metadata": {},
   "outputs": [],
   "source": [
    "class DeepOLoader(Dataset):\n",
    "    def __init__(self, I, c, device):\n",
    "        self.times = torch.tensor(np.linspace(0, 1, I.shape[1], dtype=np.float32)).to(device)\n",
    "        self.intensity = I.to(device)\n",
    "        self.osmolarity = c.to(device)\n",
    "\n",
    "    def __len__(self):\n",
    "        return np.prod(self.intensity.shape)\n",
    "    \n",
    "    def reference(self, idx):\n",
    "        ns, nt = self.intensity.shape\n",
    "        return idx // ns, idx % ns  # time index, sample index\n",
    "\n",
    "    def __getitem__(self, idx):\n",
    "        return self.getitem(idx)\n",
    "    \n",
    "    def getitem(self, idx):\n",
    "        idxt, idxs = self.reference(idx)\n",
    "        x = torch.cat((self.intensity[idxs, :], self.times[idxt:idxt+1]))\n",
    "        return x, self.osmolarity[idxs, idxt]"
   ]
  },
  {
   "cell_type": "code",
   "execution_count": 147,
   "metadata": {},
   "outputs": [],
   "source": [
    "dataset = DeepOLoader(data_I, data_c, device)\n",
    "train_size = int(0.8 * len(dataset))\n",
    "test_size = len(dataset) - train_size\n",
    "\n",
    "train_dataset, test_dataset = random_split(dataset, [train_size, test_size])\n",
    "\n",
    "train_dataloader = DataLoader(train_dataset, batch_size=batch_size, shuffle=True)\n",
    "test_dataloader = DataLoader(test_dataset, batch_size=batch_size, shuffle=False)"
   ]
  },
  {
   "cell_type": "code",
   "execution_count": 148,
   "metadata": {},
   "outputs": [
    {
     "data": {
      "text/plain": [
       "(1, 5)"
      ]
     },
     "execution_count": 148,
     "metadata": {},
     "output_type": "execute_result"
    }
   ],
   "source": [
    "dataset.reference(40005)"
   ]
  },
  {
   "cell_type": "markdown",
   "metadata": {},
   "source": [
    "# Define the model"
   ]
  },
  {
   "cell_type": "code",
   "execution_count": 149,
   "metadata": {},
   "outputs": [],
   "source": [
    "class Trunk(nn.Module):\n",
    "    def __init__(self, width):\n",
    "        super(Trunk, self).__init__()\n",
    "        self.layers = nn.Sequential(\n",
    "            nn.Linear(1, width),\n",
    "            nn.ReLU(),\n",
    "            nn.Linear(width, width),\n",
    "            nn.ReLU(),\n",
    "            nn.Linear(width, width),\n",
    "            nn.ReLU(),\n",
    "            nn.Linear(width, width))\n",
    "        \n",
    "    def forward(self, x):\n",
    "        return self.layers(x)\n",
    "\n",
    "class Branch(nn.Module):\n",
    "    def __init__(self, width):\n",
    "        super(Branch, self).__init__()\n",
    "        self.layers = nn.Sequential(\n",
    "            nn.Linear(101, width),\n",
    "            nn.ReLU(),\n",
    "            nn.Linear(width, width),\n",
    "            nn.ReLU(),\n",
    "            nn.Linear(width, width),\n",
    "            nn.ReLU(),\n",
    "            nn.Linear(width, width))\n",
    "        \n",
    "    def forward(self, x):\n",
    "        return self.layers(x)\n",
    "\n",
    "class DeepO(nn.Module):\n",
    "    def __init__(self, trunk_width, branch_width):\n",
    "        super().__init__()\n",
    "        self.trunk = Trunk(trunk_width)\n",
    "        self.branch = Branch(branch_width)\n",
    "\n",
    "    def forward(self, x):\n",
    "        t = self.trunk(x[:, -1:])\n",
    "        b = self.branch(x[:, :-1])\n",
    "        return torch.multiply(t, b).sum(dim=1)"
   ]
  },
  {
   "cell_type": "code",
   "execution_count": 150,
   "metadata": {},
   "outputs": [
    {
     "name": "stdout",
     "output_type": "stream",
     "text": [
      "DeepO(\n",
      "  (trunk): Trunk(\n",
      "    (layers): Sequential(\n",
      "      (0): Linear(in_features=1, out_features=40, bias=True)\n",
      "      (1): ReLU()\n",
      "      (2): Linear(in_features=40, out_features=40, bias=True)\n",
      "      (3): ReLU()\n",
      "      (4): Linear(in_features=40, out_features=40, bias=True)\n",
      "      (5): ReLU()\n",
      "      (6): Linear(in_features=40, out_features=40, bias=True)\n",
      "    )\n",
      "  )\n",
      "  (branch): Branch(\n",
      "    (layers): Sequential(\n",
      "      (0): Linear(in_features=101, out_features=40, bias=True)\n",
      "      (1): ReLU()\n",
      "      (2): Linear(in_features=40, out_features=40, bias=True)\n",
      "      (3): ReLU()\n",
      "      (4): Linear(in_features=40, out_features=40, bias=True)\n",
      "      (5): ReLU()\n",
      "      (6): Linear(in_features=40, out_features=40, bias=True)\n",
      "    )\n",
      "  )\n",
      ")\n"
     ]
    }
   ],
   "source": [
    "model = DeepO(40, 40).to(device)\n",
    "print(model)"
   ]
  },
  {
   "cell_type": "markdown",
   "metadata": {},
   "source": [
    "## Test model on an input"
   ]
  },
  {
   "cell_type": "code",
   "execution_count": 151,
   "metadata": {},
   "outputs": [
    {
     "data": {
      "text/plain": [
       "tensor([ 1.6765e-02, -1.5092e-03,  5.6778e-03,  2.7395e-02, -6.1011e-05,\n",
       "         9.8121e-03, -4.6778e-03,  7.2494e-03,  5.6259e-03,  1.0517e-02,\n",
       "         6.4039e-03,  8.1937e-03, -7.5053e-04,  1.8640e-02,  8.5262e-03,\n",
       "         7.4270e-03,  1.0852e-02,  5.7265e-03, -8.7660e-04, -4.6327e-03,\n",
       "         2.4625e-03,  2.3475e-03,  4.6998e-03, -2.9648e-03,  1.6216e-02,\n",
       "         9.2860e-03,  1.7871e-02,  4.1108e-03,  1.1611e-02,  1.5366e-02,\n",
       "         3.9910e-03,  1.2161e-02,  4.9646e-03, -6.2888e-03,  9.1449e-03,\n",
       "         4.4905e-03,  1.3486e-02,  4.7302e-03,  7.7428e-03,  1.3212e-02,\n",
       "         1.6304e-02,  4.6119e-03,  1.8877e-02,  3.0977e-03,  8.1976e-03,\n",
       "         5.2986e-03,  4.1021e-03,  4.0498e-04,  4.3534e-05,  1.0410e-03,\n",
       "         3.5987e-03,  9.7818e-03,  1.5585e-02,  6.8648e-03,  3.2998e-03,\n",
       "         3.3688e-03,  2.6611e-03,  7.0507e-03,  4.0402e-03,  4.7510e-03,\n",
       "         7.4023e-03,  2.6320e-03,  2.0160e-02, -1.7770e-03, -1.5062e-03,\n",
       "        -4.5610e-03, -6.1367e-04,  2.6712e-03,  5.5052e-03,  1.2461e-02,\n",
       "         1.0204e-02, -1.4498e-03,  5.9816e-03,  1.0768e-03, -3.3577e-03,\n",
       "         2.5663e-03,  6.6726e-03,  1.3281e-02,  1.2392e-02, -8.7945e-04,\n",
       "         1.8937e-02,  1.5790e-02, -1.1155e-03,  6.2996e-03,  1.9731e-02,\n",
       "         2.5020e-03,  2.0220e-02, -8.8937e-04,  5.2232e-03,  2.9710e-03,\n",
       "         1.9873e-03, -1.1321e-03,  2.9968e-03,  1.6499e-02,  2.5632e-02,\n",
       "         5.9574e-03,  7.6496e-03,  5.3014e-03,  9.0946e-04,  5.7977e-03,\n",
       "         9.4467e-03,  6.1544e-03,  2.5367e-03,  1.6063e-02,  5.9601e-03,\n",
       "         1.8150e-03,  2.6696e-03,  2.6411e-02,  6.8235e-03,  4.2174e-03,\n",
       "         1.4845e-05, -1.2082e-03,  2.0445e-02,  5.0124e-03,  2.0984e-02,\n",
       "         5.6633e-03,  1.1465e-02,  1.7735e-02, -5.6194e-04,  5.2755e-03,\n",
       "         7.9245e-03,  3.6897e-03,  8.4179e-03,  1.3434e-02,  4.7996e-03,\n",
       "         7.9225e-03, -1.2892e-03,  9.0996e-03, -1.0649e-03,  1.1737e-02,\n",
       "         2.7180e-03,  6.2003e-03,  1.6049e-02,  4.3840e-03,  1.8375e-02,\n",
       "         1.8523e-03,  1.3460e-02,  1.7026e-02,  1.6346e-02,  7.4584e-03,\n",
       "         8.9193e-03, -1.7919e-04,  5.0184e-04,  3.1022e-03,  1.3445e-03,\n",
       "         8.3843e-03, -1.2034e-03,  4.3751e-03,  3.9381e-03,  6.1341e-03,\n",
       "         4.9494e-03,  2.6288e-03,  9.3655e-03,  9.5480e-03, -7.6231e-03,\n",
       "         4.9891e-03,  1.5389e-02,  4.1010e-03,  6.3984e-03,  9.4132e-03,\n",
       "         4.7396e-03, -5.0435e-04, -1.2639e-03,  4.1986e-03,  1.5408e-02,\n",
       "        -2.9771e-03,  5.1870e-03,  8.6624e-03,  9.2745e-03,  5.9756e-03,\n",
       "        -4.4724e-03,  4.4041e-03,  6.0438e-03,  4.3315e-04,  1.0516e-02,\n",
       "         4.3354e-03, -1.5837e-03,  9.1637e-04,  9.0524e-03,  4.0428e-03,\n",
       "         2.0493e-02,  1.6129e-03,  1.3219e-03,  4.8029e-03,  1.9197e-02,\n",
       "         1.8917e-02,  7.3542e-03,  2.0358e-03,  2.8349e-03, -1.2250e-03,\n",
       "         6.1417e-03,  6.1997e-03, -6.6837e-04, -1.0775e-03,  1.8698e-03,\n",
       "         1.4640e-02,  1.9986e-02,  2.5735e-04,  5.6086e-03,  2.7058e-03,\n",
       "         1.7714e-02,  5.2801e-03,  2.8953e-04,  6.7304e-03,  1.8807e-02,\n",
       "         1.9680e-02,  1.4761e-02,  6.3745e-03,  1.6212e-02,  1.0889e-02,\n",
       "         6.1047e-03,  7.8176e-03,  2.7619e-03,  3.5371e-03,  1.7729e-02,\n",
       "         6.2436e-06,  1.9739e-02,  2.3054e-02,  1.4759e-02,  4.8116e-03,\n",
       "         7.6696e-03,  5.0126e-03,  8.8542e-03,  6.8897e-03, -1.4434e-04,\n",
       "        -2.8204e-03,  1.2963e-02,  5.3350e-03,  5.3261e-03,  3.1034e-04,\n",
       "         5.0555e-03,  1.2278e-02,  1.3922e-02,  9.8720e-03,  5.6745e-03,\n",
       "         6.8319e-03, -3.3398e-04,  5.0663e-03,  6.5879e-03,  2.7029e-03,\n",
       "         1.8228e-02,  3.4875e-03,  8.1179e-03,  4.9041e-03,  6.8197e-05,\n",
       "         4.0163e-03,  6.0644e-03,  1.3958e-02,  9.0301e-03,  1.1254e-02,\n",
       "         8.4654e-04,  4.8983e-03,  2.6384e-03,  7.0025e-04,  9.6844e-03,\n",
       "         3.5087e-03, -5.2132e-04,  5.3053e-03, -1.6400e-03, -4.5908e-03,\n",
       "         1.3352e-02,  2.5124e-03,  2.0712e-02,  4.9899e-03,  2.0619e-02,\n",
       "         1.6446e-02,  3.9223e-03,  2.7526e-03, -4.0190e-03,  1.7343e-03,\n",
       "         1.8311e-02,  4.4487e-03,  1.7679e-03,  5.6830e-04,  7.0091e-03,\n",
       "         5.4394e-03,  7.9918e-03, -5.1455e-04,  4.9503e-03,  2.1197e-02,\n",
       "         1.0475e-02,  9.5220e-03, -2.4852e-03,  5.1952e-03,  6.9318e-03,\n",
       "         5.7928e-03,  8.3904e-03,  3.5283e-03,  1.8911e-02,  4.3382e-03,\n",
       "         2.0815e-03,  1.2489e-02,  7.5208e-03,  1.5096e-03, -1.9021e-03,\n",
       "         1.4801e-02,  9.0447e-03,  1.4117e-02,  4.0294e-03, -7.8094e-04,\n",
       "         7.1649e-04,  1.0211e-02,  7.8333e-03,  1.7751e-02,  5.5881e-03,\n",
       "         1.9563e-03,  1.4109e-03,  1.5099e-02, -1.6686e-05,  4.9167e-03,\n",
       "         2.5067e-02,  2.1164e-03,  5.0131e-03,  5.1997e-03,  1.8792e-02,\n",
       "        -7.4191e-04,  9.2841e-04,  5.1791e-03,  1.2723e-02,  2.7688e-03,\n",
       "         5.0991e-03,  1.9116e-02,  2.1035e-02,  3.6750e-04,  1.4341e-02,\n",
       "        -3.3595e-04,  1.0401e-02, -8.3106e-04,  1.5918e-02,  1.9810e-02,\n",
       "         4.6546e-03,  7.6016e-03,  1.4221e-02,  2.4220e-02,  4.7767e-03,\n",
       "         1.5916e-02,  8.1732e-03,  5.6092e-03,  6.6442e-03, -1.4281e-03,\n",
       "        -7.0104e-04,  6.2417e-04,  2.3879e-02,  1.4094e-02,  2.3972e-03,\n",
       "         3.3410e-03,  2.4328e-03,  5.3092e-03, -7.5927e-04,  2.0090e-02,\n",
       "         2.8126e-03,  1.6591e-02,  1.4617e-02,  1.0465e-02,  2.0559e-03,\n",
       "         5.3614e-03, -1.1806e-03,  1.5972e-03, -2.1210e-03, -6.1518e-03,\n",
       "        -1.1773e-03,  5.6288e-03,  1.7973e-02,  5.2584e-03, -9.2020e-04,\n",
       "         1.0119e-02,  3.7498e-03,  2.1140e-03,  2.2444e-03, -8.3859e-04,\n",
       "         6.3464e-04,  1.8779e-03,  5.6879e-03,  5.4139e-03,  1.4111e-02,\n",
       "         1.1672e-02,  6.9555e-03,  1.4667e-02,  1.8309e-02,  8.7172e-03,\n",
       "        -5.0158e-04,  1.6470e-02,  7.0717e-03,  2.5458e-03,  3.3135e-03,\n",
       "         4.1317e-03,  4.7061e-03,  1.9541e-02,  7.0537e-03,  2.6560e-03,\n",
       "         4.6010e-03,  1.7191e-03,  9.3544e-03,  1.6988e-04,  4.5735e-03,\n",
       "         5.9529e-03,  4.8471e-03,  4.7495e-03,  1.0332e-02,  1.8543e-02,\n",
       "         1.0247e-02, -1.5425e-05,  2.6229e-03,  6.1479e-03, -1.8817e-03,\n",
       "         4.2845e-03,  1.5613e-02,  3.2618e-03,  6.1058e-03, -2.7140e-03,\n",
       "         3.9066e-03,  4.3790e-03,  6.7776e-03,  2.0034e-02, -1.9434e-03,\n",
       "         1.0727e-02,  6.0105e-03,  1.4312e-02,  1.4257e-03,  6.0025e-04,\n",
       "         4.0196e-03, -2.3947e-03,  3.3346e-03,  1.3942e-02,  6.3590e-03,\n",
       "         2.8521e-03,  5.3158e-03,  6.0130e-03,  1.0090e-03,  6.6144e-04,\n",
       "         4.9983e-03,  6.2442e-03, -1.8074e-03,  3.7507e-03, -1.9228e-03,\n",
       "         1.1112e-02,  1.2735e-02,  1.6647e-02,  5.3858e-03,  3.9995e-03,\n",
       "        -1.1387e-03,  6.1830e-03, -1.5038e-03, -1.6634e-04,  5.1432e-03,\n",
       "         4.9865e-04,  5.0298e-03,  1.9869e-02, -1.6838e-03,  8.5188e-03,\n",
       "         4.7457e-03,  4.2498e-03,  2.2911e-03,  1.5768e-03,  3.9147e-03,\n",
       "         1.3017e-02,  8.9994e-03,  1.7838e-02,  7.8899e-03,  7.7116e-04,\n",
       "        -4.2388e-04, -1.0869e-03,  5.0335e-03,  6.5583e-04, -2.0302e-03,\n",
       "         1.0495e-02,  1.3025e-02,  5.0943e-03, -3.4911e-03,  1.9464e-02,\n",
       "        -1.0817e-03,  2.0348e-02,  2.4325e-02,  2.9813e-03, -3.2996e-03,\n",
       "         1.6775e-02,  1.5960e-02,  3.0379e-03,  1.4108e-02,  1.4985e-02,\n",
       "        -4.7262e-03,  3.1486e-03,  1.6012e-02,  5.4914e-03, -9.0677e-04,\n",
       "         1.3188e-02,  4.0218e-03,  4.2856e-03,  4.9587e-03,  5.1466e-03,\n",
       "         8.3837e-03,  2.3080e-02,  7.3163e-03,  5.6166e-03,  7.1902e-03,\n",
       "         6.2416e-04,  1.9106e-02,  2.9741e-04, -6.3471e-05,  1.2708e-02,\n",
       "         6.7191e-03,  3.3024e-03,  3.9864e-03,  1.7065e-02,  1.8674e-02,\n",
       "         1.0117e-03,  5.4226e-03,  7.2963e-03,  1.0611e-02,  8.0641e-03,\n",
       "         1.9629e-02,  6.1187e-03], device='mps:0', grad_fn=<SumBackward1>)"
      ]
     },
     "execution_count": 151,
     "metadata": {},
     "output_type": "execute_result"
    }
   ],
   "source": [
    "model( next(iter(train_dataloader))[0] )"
   ]
  },
  {
   "cell_type": "markdown",
   "metadata": {},
   "source": [
    "# Training"
   ]
  },
  {
   "cell_type": "code",
   "execution_count": 152,
   "metadata": {},
   "outputs": [],
   "source": [
    "def train_loop(dataloader, model, loss_fn, optimizer):\n",
    "    size = len(dataloader.dataset)\n",
    "    # Set the model to training mode - important for batch normalization and dropout layers\n",
    "    # Unnecessary in this situation but added for best practices\n",
    "    model.train()\n",
    "    for batch, (X, y) in enumerate(dataloader):\n",
    "        # Compute prediction and loss\n",
    "        pred = model(X)\n",
    "        loss = loss_fn(pred, y)\n",
    "\n",
    "        # Backpropagation\n",
    "        loss.backward()\n",
    "        optimizer.step()\n",
    "        optimizer.zero_grad()\n",
    "\n",
    "        if batch % 100 == 0:\n",
    "            loss, current = loss.item(), batch * batch_size + len(X)\n",
    "            print(f\"loss: {loss:>7f}  [{current:>5d}/{size:>5d}]\")\n",
    "\n",
    "\n",
    "def test_loop(dataloader, model, loss_fn):\n",
    "    # Set the model to evaluation mode - important for batch normalization and dropout layers\n",
    "    # Unnecessary in this situation but added for best practices\n",
    "    model.eval()\n",
    "    size = len(dataloader.dataset)\n",
    "    num_batches = len(dataloader)\n",
    "    test_loss, correct = 0, 0\n",
    "\n",
    "    # Evaluating the model with torch.no_grad() ensures that no gradients are computed during test mode\n",
    "    # also serves to reduce unnecessary gradient computations and memory usage for tensors with requires_grad=True\n",
    "    with torch.no_grad():\n",
    "        for X, y in dataloader:\n",
    "            pred = model(X)\n",
    "            test_loss += loss_fn(pred, y).item()\n",
    "\n",
    "    test_loss /= num_batches\n",
    "    print(f\"Test Error: Avg loss = {test_loss:>8f} \\n\")"
   ]
  },
  {
   "cell_type": "code",
   "execution_count": 153,
   "metadata": {},
   "outputs": [
    {
     "name": "stdout",
     "output_type": "stream",
     "text": [
      "Epoch 1\n",
      "-------------------------------\n",
      "loss: 16.806425  [  512/3232000]\n",
      "loss: 2.300101  [51712/3232000]\n",
      "loss: 1.705386  [102912/3232000]\n",
      "loss: 1.738791  [154112/3232000]\n",
      "loss: 1.390396  [205312/3232000]\n",
      "loss: 1.133089  [256512/3232000]\n",
      "loss: 1.117069  [307712/3232000]\n",
      "loss: 0.786019  [358912/3232000]\n",
      "loss: 0.624501  [410112/3232000]\n",
      "loss: 0.676129  [461312/3232000]\n",
      "loss: 0.465115  [512512/3232000]\n",
      "loss: 0.389291  [563712/3232000]\n",
      "loss: 0.303545  [614912/3232000]\n",
      "loss: 0.365946  [666112/3232000]\n",
      "loss: 0.271775  [717312/3232000]\n",
      "loss: 0.280524  [768512/3232000]\n",
      "loss: 0.228337  [819712/3232000]\n",
      "loss: 0.296486  [870912/3232000]\n",
      "loss: 0.250653  [922112/3232000]\n",
      "loss: 0.152643  [973312/3232000]\n",
      "loss: 0.204580  [1024512/3232000]\n",
      "loss: 0.189981  [1075712/3232000]\n",
      "loss: 0.153542  [1126912/3232000]\n",
      "loss: 0.217246  [1178112/3232000]\n",
      "loss: 0.195456  [1229312/3232000]\n",
      "loss: 0.237773  [1280512/3232000]\n",
      "loss: 0.125869  [1331712/3232000]\n",
      "loss: 0.125706  [1382912/3232000]\n",
      "loss: 0.133321  [1434112/3232000]\n",
      "loss: 0.139745  [1485312/3232000]\n",
      "loss: 0.174826  [1536512/3232000]\n",
      "loss: 0.128427  [1587712/3232000]\n",
      "loss: 0.132468  [1638912/3232000]\n",
      "loss: 0.129081  [1690112/3232000]\n",
      "loss: 0.123431  [1741312/3232000]\n",
      "loss: 0.113437  [1792512/3232000]\n",
      "loss: 0.210454  [1843712/3232000]\n",
      "loss: 0.125147  [1894912/3232000]\n",
      "loss: 0.186600  [1946112/3232000]\n",
      "loss: 0.103565  [1997312/3232000]\n",
      "loss: 0.144388  [2048512/3232000]\n",
      "loss: 0.093750  [2099712/3232000]\n",
      "loss: 0.083048  [2150912/3232000]\n",
      "loss: 0.132724  [2202112/3232000]\n",
      "loss: 0.096911  [2253312/3232000]\n",
      "loss: 0.113641  [2304512/3232000]\n",
      "loss: 0.133694  [2355712/3232000]\n",
      "loss: 0.078841  [2406912/3232000]\n",
      "loss: 0.097871  [2458112/3232000]\n",
      "loss: 0.149192  [2509312/3232000]\n",
      "loss: 0.086174  [2560512/3232000]\n",
      "loss: 0.118036  [2611712/3232000]\n",
      "loss: 0.080871  [2662912/3232000]\n",
      "loss: 0.062449  [2714112/3232000]\n",
      "loss: 0.099914  [2765312/3232000]\n",
      "loss: 0.089948  [2816512/3232000]\n",
      "loss: 0.062253  [2867712/3232000]\n",
      "loss: 0.077431  [2918912/3232000]\n",
      "loss: 0.064658  [2970112/3232000]\n",
      "loss: 0.121340  [3021312/3232000]\n",
      "loss: 0.094504  [3072512/3232000]\n",
      "loss: 0.083337  [3123712/3232000]\n",
      "loss: 0.064499  [3174912/3232000]\n",
      "loss: 0.066590  [3226112/3232000]\n",
      "Test Error: Avg loss = 0.083998 \n",
      "\n",
      "Epoch 2\n",
      "-------------------------------\n",
      "loss: 0.071126  [  512/3232000]\n",
      "loss: 0.098404  [51712/3232000]\n",
      "loss: 0.077975  [102912/3232000]\n",
      "loss: 0.068232  [154112/3232000]\n",
      "loss: 0.063658  [205312/3232000]\n",
      "loss: 0.091233  [256512/3232000]\n",
      "loss: 0.060202  [307712/3232000]\n",
      "loss: 0.055302  [358912/3232000]\n",
      "loss: 0.111587  [410112/3232000]\n",
      "loss: 0.084414  [461312/3232000]\n",
      "loss: 0.048914  [512512/3232000]\n",
      "loss: 0.065712  [563712/3232000]\n",
      "loss: 0.074333  [614912/3232000]\n",
      "loss: 0.110722  [666112/3232000]\n",
      "loss: 0.044735  [717312/3232000]\n",
      "loss: 0.052194  [768512/3232000]\n",
      "loss: 0.055794  [819712/3232000]\n",
      "loss: 0.057768  [870912/3232000]\n",
      "loss: 0.059436  [922112/3232000]\n",
      "loss: 0.044109  [973312/3232000]\n",
      "loss: 0.041059  [1024512/3232000]\n",
      "loss: 0.038048  [1075712/3232000]\n",
      "loss: 0.093053  [1126912/3232000]\n",
      "loss: 0.049314  [1178112/3232000]\n",
      "loss: 0.037480  [1229312/3232000]\n",
      "loss: 0.056855  [1280512/3232000]\n",
      "loss: 0.065350  [1331712/3232000]\n",
      "loss: 0.109982  [1382912/3232000]\n",
      "loss: 0.047519  [1434112/3232000]\n",
      "loss: 0.088118  [1485312/3232000]\n",
      "loss: 0.046622  [1536512/3232000]\n",
      "loss: 0.055505  [1587712/3232000]\n",
      "loss: 0.064394  [1638912/3232000]\n",
      "loss: 0.037112  [1690112/3232000]\n",
      "loss: 0.050275  [1741312/3232000]\n",
      "loss: 0.057033  [1792512/3232000]\n",
      "loss: 0.059950  [1843712/3232000]\n",
      "loss: 0.049063  [1894912/3232000]\n",
      "loss: 0.058208  [1946112/3232000]\n",
      "loss: 0.056429  [1997312/3232000]\n",
      "loss: 0.043400  [2048512/3232000]\n",
      "loss: 0.044693  [2099712/3232000]\n",
      "loss: 0.041760  [2150912/3232000]\n",
      "loss: 0.075230  [2202112/3232000]\n",
      "loss: 0.040597  [2253312/3232000]\n",
      "loss: 0.047376  [2304512/3232000]\n",
      "loss: 0.030045  [2355712/3232000]\n",
      "loss: 0.061704  [2406912/3232000]\n",
      "loss: 0.032078  [2458112/3232000]\n",
      "loss: 0.034926  [2509312/3232000]\n",
      "loss: 0.037184  [2560512/3232000]\n",
      "loss: 0.031296  [2611712/3232000]\n",
      "loss: 0.039495  [2662912/3232000]\n",
      "loss: 0.044666  [2714112/3232000]\n",
      "loss: 0.039087  [2765312/3232000]\n",
      "loss: 0.040900  [2816512/3232000]\n",
      "loss: 0.047982  [2867712/3232000]\n",
      "loss: 0.031262  [2918912/3232000]\n",
      "loss: 0.050247  [2970112/3232000]\n",
      "loss: 0.035302  [3021312/3232000]\n",
      "loss: 0.045914  [3072512/3232000]\n",
      "loss: 0.033254  [3123712/3232000]\n",
      "loss: 0.049439  [3174912/3232000]\n",
      "loss: 0.040429  [3226112/3232000]\n",
      "Test Error: Avg loss = 0.037704 \n",
      "\n",
      "Epoch 3\n",
      "-------------------------------\n",
      "loss: 0.053681  [  512/3232000]\n",
      "loss: 0.033520  [51712/3232000]\n",
      "loss: 0.028354  [102912/3232000]\n",
      "loss: 0.054916  [154112/3232000]\n",
      "loss: 0.042784  [205312/3232000]\n",
      "loss: 0.030230  [256512/3232000]\n",
      "loss: 0.032295  [307712/3232000]\n",
      "loss: 0.026190  [358912/3232000]\n",
      "loss: 0.033687  [410112/3232000]\n",
      "loss: 0.040727  [461312/3232000]\n",
      "loss: 0.036337  [512512/3232000]\n",
      "loss: 0.029305  [563712/3232000]\n",
      "loss: 0.042004  [614912/3232000]\n",
      "loss: 0.037890  [666112/3232000]\n",
      "loss: 0.034587  [717312/3232000]\n",
      "loss: 0.051813  [768512/3232000]\n",
      "loss: 0.036157  [819712/3232000]\n",
      "loss: 0.046446  [870912/3232000]\n",
      "loss: 0.028510  [922112/3232000]\n",
      "loss: 0.029778  [973312/3232000]\n",
      "loss: 0.030431  [1024512/3232000]\n",
      "loss: 0.026381  [1075712/3232000]\n",
      "loss: 0.033142  [1126912/3232000]\n",
      "loss: 0.029355  [1178112/3232000]\n",
      "loss: 0.039083  [1229312/3232000]\n",
      "loss: 0.024555  [1280512/3232000]\n",
      "loss: 0.042829  [1331712/3232000]\n",
      "loss: 0.030976  [1382912/3232000]\n",
      "loss: 0.032703  [1434112/3232000]\n",
      "loss: 0.031621  [1485312/3232000]\n",
      "loss: 0.027351  [1536512/3232000]\n",
      "loss: 0.019565  [1587712/3232000]\n",
      "loss: 0.028544  [1638912/3232000]\n",
      "loss: 0.037629  [1690112/3232000]\n",
      "loss: 0.033232  [1741312/3232000]\n",
      "loss: 0.042688  [1792512/3232000]\n",
      "loss: 0.033697  [1843712/3232000]\n",
      "loss: 0.021200  [1894912/3232000]\n",
      "loss: 0.030778  [1946112/3232000]\n",
      "loss: 0.025704  [1997312/3232000]\n",
      "loss: 0.029912  [2048512/3232000]\n",
      "loss: 0.029924  [2099712/3232000]\n",
      "loss: 0.050857  [2150912/3232000]\n",
      "loss: 0.022663  [2202112/3232000]\n",
      "loss: 0.020506  [2253312/3232000]\n",
      "loss: 0.019140  [2304512/3232000]\n",
      "loss: 0.018584  [2355712/3232000]\n",
      "loss: 0.024659  [2406912/3232000]\n",
      "loss: 0.027693  [2458112/3232000]\n",
      "loss: 0.029575  [2509312/3232000]\n",
      "loss: 0.033876  [2560512/3232000]\n",
      "loss: 0.021837  [2611712/3232000]\n",
      "loss: 0.026644  [2662912/3232000]\n",
      "loss: 0.026654  [2714112/3232000]\n",
      "loss: 0.040610  [2765312/3232000]\n",
      "loss: 0.032136  [2816512/3232000]\n",
      "loss: 0.029734  [2867712/3232000]\n",
      "loss: 0.030171  [2918912/3232000]\n",
      "loss: 0.027104  [2970112/3232000]\n",
      "loss: 0.040548  [3021312/3232000]\n",
      "loss: 0.024560  [3072512/3232000]\n",
      "loss: 0.029298  [3123712/3232000]\n",
      "loss: 0.046667  [3174912/3232000]\n",
      "loss: 0.033817  [3226112/3232000]\n",
      "Test Error: Avg loss = 0.024821 \n",
      "\n",
      "Done!\n"
     ]
    }
   ],
   "source": [
    "learning_rate = 1e-3\n",
    "loss_fn = nn.MSELoss()\n",
    "optimizer = torch.optim.Adam(model.parameters(), lr=learning_rate)\n",
    "epochs = 3\n",
    "for t in range(epochs):\n",
    "    print(f\"Epoch {t+1}\\n-------------------------------\")\n",
    "    train_loop(train_dataloader, model, loss_fn, optimizer)\n",
    "    test_loop(test_dataloader, model, loss_fn)\n",
    "print(\"Done!\")"
   ]
  },
  {
   "cell_type": "markdown",
   "metadata": {},
   "source": [
    "# Inspecting results"
   ]
  },
  {
   "cell_type": "code",
   "execution_count": 171,
   "metadata": {},
   "outputs": [
    {
     "data": {
      "text/plain": [
       "(tensor([7.4162], device='mps:0', grad_fn=<SumBackward1>),\n",
       " tensor(7.4976, device='mps:0'))"
      ]
     },
     "execution_count": 171,
     "metadata": {},
     "output_type": "execute_result"
    }
   ],
   "source": [
    "X, y = next(iter(test_dataloader))\n",
    "model( X[0:1, :] ), y[0]"
   ]
  },
  {
   "cell_type": "code",
   "execution_count": 177,
   "metadata": {},
   "outputs": [
    {
     "data": {
      "image/png": "[encoded data removed]",
      "text/plain": [
       "<Figure size 640x480 with 1 Axes>"
      ]
     },
     "metadata": {},
     "output_type": "display_data"
    }
   ],
   "source": [
    "samp = 11111\n",
    "t = np.linspace(0, 1, 101, dtype=np.float32)\n",
    "with torch.no_grad():\n",
    "    pred = [model(torch.cat((data_I[samp:samp+1], torch.tensor(t).reshape(-1, 1)), dim=1).to(device)).cpu().numpy() for t in t]\n",
    "\n",
    "plt.plot(np.linspace(0, 1, 101), data_c[samp].cpu().numpy(), label=\"exact\")\n",
    "plt.plot(t, pred, label=\"predicted\")\n",
    "plt.xlabel(\"time\")\n",
    "plt.ylabel(\"osmolarity\")\n",
    "plt.show()"
   ]
  },
  {
   "cell_type": "code",
   "execution_count": null,
   "metadata": {},
   "outputs": [],
   "source": []
  }
 ],
 "metadata": {
  "kernelspec": {
   "display_name": "torch",
   "language": "python",
   "name": "python3"
  },
  "language_info": {
   "codemirror_mode": {
    "name": "ipython",
    "version": 3
   },
   "file_extension": ".py",
   "mimetype": "text/x-python",
   "name": "python",
   "nbconvert_exporter": "python",
   "pygments_lexer": "ipython3",
   "version": "3.11.0"
  }
 },
 "nbformat": 4,
 "nbformat_minor": 2
}
